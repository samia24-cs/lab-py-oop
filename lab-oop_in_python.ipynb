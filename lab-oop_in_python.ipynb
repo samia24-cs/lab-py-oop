{
 "cells": [
  {
   "cell_type": "markdown",
   "metadata": {},
   "source": [
    "# LAB | Object-Oriented Programming (OOP) in Python"
   ]
  },
  {
   "cell_type": "markdown",
   "metadata": {},
   "source": [
    "## Overview\n",
    "This exercise notebook will help you practice Object-Oriented Programming concepts in Python. You will create classes, instantiate objects, and use inheritance to build more complex structures.\n",
    "\n",
    "## Instructions\n",
    "- Complete each exercise by writing the appropriate code in the provided space.\n",
    "- Test your code to ensure it works as expected.\n",
    "- Use the hints provided if you get stuck."
   ]
  },
  {
   "cell_type": "markdown",
   "metadata": {},
   "source": [
    "### Exercise 1: Create a Class with Instance Attributes\n",
    "Write a Python program to create a `Vehicle` class with `max_speed` and `mileage` instance attributes."
   ]
  },
  {
   "cell_type": "code",
   "execution_count": 2,
   "metadata": {},
   "outputs": [
    {
     "name": "stdout",
     "output_type": "stream",
     "text": [
      "180 15000\n"
     ]
    }
   ],
   "source": [
    "class Vehicle:\n",
    "    # Initialize the instance attributes with the __init__ method\n",
    "    def __init__(self, max_speed, mileage):\n",
    "        self.max_speed = max_speed  # Instance attribute for max_speed\n",
    "        self.mileage = mileage  # Instance attribute for mileage\n",
    "\n",
    "# Example instantiation\n",
    "modelX = Vehicle(180, 15000)  # Create an instance of Vehicle with max_speed = 180 and mileage = 15000\n",
    "\n",
    "# Print attributes\n",
    "print(modelX.max_speed, modelX.mileage)  # Expected output: 180 15000\n"
   ]
  },
  {
   "cell_type": "markdown",
   "metadata": {},
   "source": [
    "### Exercise 2: Create a Vehicle Class Without Any Variables and Methods\n",
    "Create a `Vehicle` class without any variables or methods."
   ]
  },
  {
   "cell_type": "code",
   "execution_count": 4,
   "metadata": {},
   "outputs": [
    {
     "name": "stdout",
     "output_type": "stream",
     "text": [
      "<class '__main__.Vehicle'>\n"
     ]
    }
   ],
   "source": [
    "class Vehicle:\n",
    "    pass  # The class has no attributes or methods\n",
    "\n",
    "# Example instantiation\n",
    "my_vehicle = Vehicle()  # Create an instance of Vehicle\n",
    "\n",
    "# Print the type of the instance\n",
    "print(type(my_vehicle))  # Expected output: <class '__main__.Vehicle'>\n"
   ]
  },
  {
   "cell_type": "markdown",
   "metadata": {},
   "source": [
    "### Exercise 3: Create a Child Class Bus\n",
    "Create a child class `Bus` that will inherit all of the variables and methods of the `Vehicle` class."
   ]
  },
  {
   "cell_type": "code",
   "execution_count": 6,
   "metadata": {},
   "outputs": [
    {
     "name": "stdout",
     "output_type": "stream",
     "text": [
      "<class '__main__.Bus'>\n"
     ]
    }
   ],
   "source": [
    "class Vehicle:\n",
    "    pass  # The parent class has no variables or methods\n",
    "\n",
    "class Bus(Vehicle):\n",
    "    pass  # The child class inherits from Vehicle and has no new variables or methods\n",
    "\n",
    "# Example instantiation\n",
    "school_bus = Bus()  # Create an instance of Bus\n",
    "\n",
    "# Print the type of the instance\n",
    "print(type(school_bus))  # Expected output: <class '__main__.Bus'>\n"
   ]
  },
  {
   "cell_type": "markdown",
   "metadata": {},
   "source": [
    "### Exercise 4: Class Inheritance with Method Overriding\n",
    "Create a `Bus` class that inherits from the `Vehicle` class. Override the `fare()` method to include an extra charge for maintenance."
   ]
  },
  {
   "cell_type": "code",
   "execution_count": 8,
   "metadata": {},
   "outputs": [
    {
     "name": "stdout",
     "output_type": "stream",
     "text": [
      "Base fare with extra charge for maintenance\n"
     ]
    }
   ],
   "source": [
    "class Vehicle:\n",
    "    def fare(self):\n",
    "        return \"Base fare\"\n",
    "\n",
    "class Bus(Vehicle):\n",
    "    def fare(self):\n",
    "        # Override the fare method to include an extra charge for maintenance\n",
    "        base_fare = super().fare()  # Get the base fare from the parent class\n",
    "        return base_fare + \" with extra charge for maintenance\"\n",
    "\n",
    "# Create an instance of Bus\n",
    "school_bus = Bus()\n",
    "\n",
    "# Print the fare for the bus\n",
    "print(school_bus.fare())  # Expected output: \"Base fare with extra charge for maintenance\"\n"
   ]
  },
  {
   "cell_type": "markdown",
   "metadata": {},
   "source": [
    "### Exercise 5: Define a Class Attribute\n",
    "Define a property that must have the same value for every class instance (object). Set a default value for `color`."
   ]
  },
  {
   "cell_type": "code",
   "execution_count": 10,
   "metadata": {},
   "outputs": [
    {
     "name": "stdout",
     "output_type": "stream",
     "text": [
      "White\n"
     ]
    }
   ],
   "source": [
    "class Vehicle:\n",
    "    # Define a class attribute 'color' with a default value of \"White\"\n",
    "    color = \"White\"\n",
    "\n",
    "    def __init__(self, name, max_speed, mileage):\n",
    "        self.name = name\n",
    "        self.max_speed = max_speed\n",
    "        self.mileage = mileage\n",
    "\n",
    "# Create an instance of Vehicle\n",
    "school_bus = Vehicle(\"School Volvo\", 180, 12)\n",
    "\n",
    "# Print the 'color' class attribute of the instance\n",
    "print(school_bus.color)  # Expected output: \"White\"\n"
   ]
  },
  {
   "cell_type": "markdown",
   "metadata": {},
   "source": [
    "### Exercise 6: Class Inheritance with Default Fare Calculation\n",
    "Create a `Bus` child class that inherits from the `Vehicle` class. The default fare charge of any vehicle is `seating capacity * 100`. If the vehicle is a bus instance, add an extra 10% on the full fare as a maintenance charge."
   ]
  },
  {
   "cell_type": "code",
   "execution_count": 14,
   "metadata": {},
   "outputs": [
    {
     "name": "stdout",
     "output_type": "stream",
     "text": [
      "Total Bus fare is: 5500.0\n"
     ]
    }
   ],
   "source": [
    "class Vehicle:\n",
    "    def __init__(self, name, mileage, capacity):\n",
    "        self.name = name\n",
    "        self.mileage = mileage\n",
    "        self.capacity = capacity\n",
    "\n",
    "    def fare(self):\n",
    "        # Default fare is based on capacity\n",
    "        return self.capacity * 100\n",
    "\n",
    "class Bus(Vehicle):\n",
    "    def fare(self):\n",
    "        # Get the base fare from the parent class (Vehicle)\n",
    "        base_fare = super().fare()\n",
    "        \n",
    "        # Add a 10% extra maintenance charge to the base fare\n",
    "        maintenance_charge = base_fare * 0.10\n",
    "        \n",
    "        # Return the total fare with maintenance charge\n",
    "        return base_fare + maintenance_charge\n",
    "\n",
    "# Create an instance of Bus\n",
    "school_bus = Bus(\"School Volvo\", 12, 50)\n",
    "\n",
    "# Print the total fare for the bus\n",
    "print(\"Total Bus fare is:\", school_bus.fare())  # Expected output: Total Bus fare is: 5500\n"
   ]
  },
  {
   "cell_type": "markdown",
   "metadata": {},
   "source": [
    "### Exercise 7: Check Type of an Object\n",
    "Write a program to determine which class a given object belongs to."
   ]
  },
  {
   "cell_type": "code",
   "execution_count": 38,
   "metadata": {},
   "outputs": [
    {
     "name": "stdout",
     "output_type": "stream",
     "text": [
      "<class '__main__.Bus'>\n"
     ]
    }
   ],
   "source": [
    "# Assuming the Bus class is already defined and imported\n",
    "\n",
    "# Create an instance of Bus\n",
    "school_bus = Bus(\"School Volvo\", 12, 50)\n",
    "\n",
    "# Print the type of the school_bus object\n",
    "print(type(school_bus))  # Expected output: <class '__main__.Bus'>\n"
   ]
  },
  {
   "cell_type": "markdown",
   "metadata": {},
   "source": [
    "### Exercise 8: Check Instance of Class \n",
    "Determine if `school_bus` is also an instance of the `Vehicle` class.\n"
   ]
  },
  {
   "cell_type": "code",
   "execution_count": 41,
   "metadata": {},
   "outputs": [
    {
     "name": "stdout",
     "output_type": "stream",
     "text": [
      "True\n"
     ]
    }
   ],
   "source": [
    "# Assuming that Vehicle and Bus classes are already defined\n",
    "\n",
    "# Create an instance of Bus\n",
    "school_bus = Bus(\"School Volvo\", 12, 50)\n",
    "\n",
    "# Check if school_bus is an instance of the Vehicle class\n",
    "print(isinstance(school_bus, Vehicle))  # Expected output: True\n"
   ]
  },
  {
   "cell_type": "markdown",
   "metadata": {},
   "source": [
    "### Exercise Completion  \n",
    "Once you have completed all exercises:\n",
    "- Review your solutions.\n",
    "- Ensure your code is well-documented with comments explaining your logic.\n",
    "- Save your notebook for submission or further review.\n",
    "\n",
    "Happy coding! Enjoy exploring Object-Oriented Programming with Python!\n"
   ]
  },
  {
   "cell_type": "code",
   "execution_count": null,
   "metadata": {},
   "outputs": [],
   "source": []
  }
 ],
 "metadata": {
  "kernelspec": {
   "display_name": "Python [conda env:base] *",
   "language": "python",
   "name": "conda-base-py"
  },
  "language_info": {
   "codemirror_mode": {
    "name": "ipython",
    "version": 3
   },
   "file_extension": ".py",
   "mimetype": "text/x-python",
   "name": "python",
   "nbconvert_exporter": "python",
   "pygments_lexer": "ipython3",
   "version": "3.12.7"
  }
 },
 "nbformat": 4,
 "nbformat_minor": 4
}
